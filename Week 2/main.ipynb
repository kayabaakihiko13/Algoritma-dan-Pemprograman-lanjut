{
 "cells": [
  {
   "cell_type": "markdown",
   "metadata": {},
   "source": [
    "<h2>High Order Function</h2>\n",
    ">A function is called Higher Order Function if it contains other functions as a parameter or returns a function as an output i.e, the functions that operate with another function are known as Higher order Functions. It is worth knowing that this higher order function is applicable for functions and methods as well that takes functions as a parameter or returns a function as a result. Python too supports the concepts of higher order functions."
   ]
  },
  {
   "cell_type": "code",
   "execution_count": 6,
   "metadata": {},
   "outputs": [
    {
     "name": "stdout",
     "output_type": "stream",
     "text": [
      "Hello Iqbal Kun :)\n",
      "Hello Iqbal Kun :)\n"
     ]
    }
   ],
   "source": [
    "# general Function Stukture\n",
    "def message():\n",
    "    return \"Hello Iqbal Kun :)\"\n",
    "pesan=message()\n",
    "print(pesan)\n",
    "# or you can call\n",
    "pesan=message\n",
    "print(pesan()) #the meaning of (),for call function if you not give () you got call errors calling like this <function message at 0x0000028AB214F3A0>\n",
    "# and this be sustainable with Function as Function"
   ]
  },
  {
   "cell_type": "markdown",
   "metadata": {},
   "source": [
    "<h2>Function as Object</h2>\n",
    "\n",
    ">a function object is a construct allowing an object to be invoked or called as if it were an ordinary function, usually with the same syntax (a function parameter that can also be a function). Function objects are often called functors"
   ]
  },
  {
   "cell_type": "code",
   "execution_count": 14,
   "metadata": {},
   "outputs": [
    {
     "name": "stdout",
     "output_type": "stream",
     "text": [
      "0x28ab214f430\n",
      "<function get_msg at 0x0000028AB214F430>\n",
      "<class 'function'>\n"
     ]
    }
   ],
   "source": [
    "# function as Object\n",
    "# simple Example\n",
    "def get_msg():\n",
    "    return \"hello iqbal kun\"\n",
    "print(hex(id(get_msg)))\n",
    "message=get_msg\n",
    "print(message)\n",
    "# what the type of get_msg\n",
    "print(type(message))\n"
   ]
  },
  {
   "cell_type": "code",
   "execution_count": 16,
   "metadata": {},
   "outputs": [
    {
     "data": {
      "text/plain": [
       "10.0"
      ]
     },
     "execution_count": 16,
     "metadata": {},
     "output_type": "execute_result"
    }
   ],
   "source": [
    "# intermaded example\n",
    "def power(num):\n",
    "    return num**2\n",
    "def squart(num):\n",
    "    return num**0.5\n",
    "def log(num):\n",
    "    x=1000\n",
    "    return x*((num**(1/x)-1))\n",
    "def main(num,fun):\n",
    "    return fun(num)\n",
    "call=main()\n",
    "\n"
   ]
  },
  {
   "cell_type": "code",
   "execution_count": 24,
   "metadata": {},
   "outputs": [
    {
     "name": "stdout",
     "output_type": "stream",
     "text": [
      "-0.6929070095474943\n"
     ]
    },
    {
     "data": {
      "text/plain": [
       "-0.6931471805599453"
      ]
     },
     "execution_count": 24,
     "metadata": {},
     "output_type": "execute_result"
    }
   ],
   "source": [
    "import math \n",
    "print(call(0.5,log))\n",
    "\n",
    "math.log(0.5)"
   ]
  },
  {
   "cell_type": "markdown",
   "metadata": {},
   "source": [
    "<h2>Curried Function</h2>\n",
    "\n",
    ">In mathematics and computer science, currying is the technique of converting a function that takes multiple arguments into a sequence of functions that each takes a single argument. "
   ]
  },
  {
   "cell_type": "code",
   "execution_count": 32,
   "metadata": {},
   "outputs": [
    {
     "name": "stdout",
     "output_type": "stream",
     "text": [
      "100\n"
     ]
    }
   ],
   "source": [
    "def pangkat(a,b):\n",
    "    return a**b\n",
    "def pangkat_multi(fun,num):\n",
    "    return lambda x:fun(num,x)\n",
    "data1=pangkat_multi(fun=pangkat,num=10)\n",
    "print(data1(2))"
   ]
  },
  {
   "cell_type": "markdown",
   "metadata": {},
   "source": [
    "pratik"
   ]
  },
  {
   "cell_type": "code",
   "execution_count": 43,
   "metadata": {},
   "outputs": [],
   "source": [
    "def kecil(data):\n",
    "    re=list()\n",
    "    for i in data:\n",
    "        if ord (i) >64 and ord(i)<91:\n",
    "            formula=chr(ord(i)+32)    \n",
    "            re.append(formula)\n",
    "        \n",
    "    return ''.join(re)\n",
    "def besar(data):\n",
    "    re=str()\n",
    "    for x in data:\n",
    "        if ord(x)>96 and ord(x)<123:\n",
    "            re+=chr(ord(x)-32)"
   ]
  },
  {
   "cell_type": "code",
   "execution_count": 44,
   "metadata": {},
   "outputs": [
    {
     "data": {
      "text/plain": [
       "'joko'"
      ]
     },
     "execution_count": 44,
     "metadata": {},
     "output_type": "execute_result"
    }
   ],
   "source": [
    "kecil(\"JOKO\")"
   ]
  },
  {
   "cell_type": "code",
   "execution_count": null,
   "metadata": {},
   "outputs": [],
   "source": []
  }
 ],
 "metadata": {
  "interpreter": {
   "hash": "4d92d0672265a1f596c4af97ef32a2cdda6abc1f152a825959aa64a1f347483d"
  },
  "kernelspec": {
   "display_name": "Python 3.9.10 64-bit",
   "language": "python",
   "name": "python3"
  },
  "language_info": {
   "codemirror_mode": {
    "name": "ipython",
    "version": 3
   },
   "file_extension": ".py",
   "mimetype": "text/x-python",
   "name": "python",
   "nbconvert_exporter": "python",
   "pygments_lexer": "ipython3",
   "version": "3.9.10"
  },
  "orig_nbformat": 4
 },
 "nbformat": 4,
 "nbformat_minor": 2
}
