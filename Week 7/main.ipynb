{
 "cells": [
  {
   "cell_type": "code",
   "execution_count": 12,
   "metadata": {},
   "outputs": [],
   "source": [
    "# membuat trapesium secara prosedural\n",
    "alas1=float(input(\"alas atas:\"))\n",
    "alas2=float(input(\"alas bawah:\"))\n",
    "tinggi=float(input(\"Tinggi :\"))\n",
    "resep=(alas1+alas2)*tinggi/2\n"
   ]
  },
  {
   "cell_type": "code",
   "execution_count": 13,
   "metadata": {},
   "outputs": [
    {
     "name": "stdout",
     "output_type": "stream",
     "text": [
      "140.0\n"
     ]
    }
   ],
   "source": [
    "print(resep)"
   ]
  },
  {
   "cell_type": "code",
   "execution_count": 11,
   "metadata": {},
   "outputs": [
    {
     "data": {
      "text/plain": [
       "140.0"
      ]
     },
     "execution_count": 11,
     "metadata": {},
     "output_type": "execute_result"
    }
   ],
   "source": [
    "# membuat trapesium dengan function\n",
    "def luas(a,b,c):\n",
    "    return (a+b)*c/2\n",
    "luas(16,12,10)"
   ]
  },
  {
   "cell_type": "code",
   "execution_count": 14,
   "metadata": {},
   "outputs": [],
   "source": [
    "# dengan oop\n",
    "class trapesium:\n",
    "    def __init__(self,a,b,c):\n",
    "        self.alasatas=a\n",
    "        self.alasbawah=b\n",
    "        self.tinggi=c\n",
    "    @staticmethod\n",
    "    def luas(self):\n",
    "        formula=(self.alasatas+self.alasbawah)*self.tinggi/2\n",
    "        return formula\n",
    "\n",
    "        "
   ]
  },
  {
   "cell_type": "code",
   "execution_count": 16,
   "metadata": {},
   "outputs": [
    {
     "data": {
      "text/plain": [
       "140.0"
      ]
     },
     "execution_count": 16,
     "metadata": {},
     "output_type": "execute_result"
    }
   ],
   "source": [
    "data1=trapesium(16,12,10)\n",
    "data1.luas()"
   ]
  },
  {
   "cell_type": "code",
   "execution_count": null,
   "metadata": {},
   "outputs": [],
   "source": []
  }
 ],
 "metadata": {
  "interpreter": {
   "hash": "4d92d0672265a1f596c4af97ef32a2cdda6abc1f152a825959aa64a1f347483d"
  },
  "kernelspec": {
   "display_name": "Python 3.9.10 64-bit",
   "language": "python",
   "name": "python3"
  },
  "language_info": {
   "codemirror_mode": {
    "name": "ipython",
    "version": 3
   },
   "file_extension": ".py",
   "mimetype": "text/x-python",
   "name": "python",
   "nbconvert_exporter": "python",
   "pygments_lexer": "ipython3",
   "version": "3.9.10"
  },
  "orig_nbformat": 4
 },
 "nbformat": 4,
 "nbformat_minor": 2
}
