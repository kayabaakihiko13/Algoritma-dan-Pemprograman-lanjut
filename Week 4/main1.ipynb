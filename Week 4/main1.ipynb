{
 "cells": [
  {
   "cell_type": "markdown",
   "metadata": {},
   "source": [
    "<h3>Introduse</h3>"
   ]
  },
  {
   "cell_type": "code",
   "execution_count": 49,
   "metadata": {},
   "outputs": [
    {
     "name": "stdout",
     "output_type": "stream",
     "text": [
      "Iqbal\n",
      "Shibuya\n"
     ]
    }
   ],
   "source": [
    "'''class nameOfClass(SuperClass):\n",
    "    __init__\n",
    "    attributes\n",
    "    methods\n",
    "'''\n",
    "\n",
    "class personal:\n",
    "    def __init__(self,name,age):\n",
    "        self.name=name\n",
    "        self.umur=age\n",
    "    def __str__(self): #langsung ke sini\n",
    "        return self.name\n",
    "    def call(self):\n",
    "        result=f'''name={self.name}\n",
    "        age={self.umur}'''\n",
    "        return result\n",
    "\n",
    "# call them\n",
    "data1=personal(\"Iqbal\",19)\n",
    "data2=personal(\"Shibuya\",17)\n",
    "print(data1)# menunjukan memoori pada variabel data1\n",
    "print(data2)# menunjukan memori pada variabel data2\n"
   ]
  },
  {
   "cell_type": "markdown",
   "metadata": {},
   "source": [
    "<h3>Print Out Object</h3>"
   ]
  },
  {
   "cell_type": "code",
   "execution_count": 45,
   "metadata": {},
   "outputs": [
    {
     "name": "stdout",
     "output_type": "stream",
     "text": [
      "nama anda Iqbal dan usia anda 19\n",
      "nama anda Shibuya dan usia anda 17\n"
     ]
    }
   ],
   "source": [
    "#print out with Accessing Object Attributes\n",
    "print(f'nama anda {data1.name} dan usia anda {data1.umur}')\n",
    "print(f'nama anda {data2.name} dan usia anda {data2.umur}')\n"
   ]
  },
  {
   "cell_type": "code",
   "execution_count": 50,
   "metadata": {},
   "outputs": [
    {
     "name": "stdout",
     "output_type": "stream",
     "text": [
      "name=Iqbal\n",
      "        age=19\n",
      "name=Shibuya\n",
      "        age=17\n"
     ]
    }
   ],
   "source": [
    "# print out with Default String Representation\n",
    "print(data1.call())\n",
    "print(data2.call())"
   ]
  },
  {
   "cell_type": "markdown",
   "metadata": {},
   "source": [
    "<h3>Individual Experiment</h3>"
   ]
  },
  {
   "cell_type": "code",
   "execution_count": 65,
   "metadata": {},
   "outputs": [],
   "source": [
    "class person:\n",
    "    def __init__(self,name,age,value1,value2):\n",
    "        self.name=name\n",
    "        self.age=age\n",
    "        self.value1=value1\n",
    "        self.value2=value2\n",
    "    def __str__(self):\n",
    "        return f\"name={self.name}\"\n",
    "    def age(self):\n",
    "        print(f'your are in {self.age}')\n",
    "    def reward(self):\n",
    "\n",
    "        #print(f'your are got mean-mean value {self.value1+self.value2/2}')\n",
    "        if self.value1+self.value2/2 >=81:\n",
    "            print('mendapatkan Reward Buku.')\n",
    "        elif self.value1+self.value2/2 <81:\n",
    "            print('mendapatkan Reward Bulpoin.')\n",
    "\n",
    "            "
   ]
  },
  {
   "cell_type": "code",
   "execution_count": 66,
   "metadata": {},
   "outputs": [
    {
     "name": "stdout",
     "output_type": "stream",
     "text": [
      "mendapatkan Reward Buku.\n"
     ]
    }
   ],
   "source": [
    "person1=person(\"iqbal\",19,70,80)\n",
    "person1.reward()"
   ]
  },
  {
   "cell_type": "code",
   "execution_count": null,
   "metadata": {},
   "outputs": [],
   "source": []
  }
 ],
 "metadata": {
  "interpreter": {
   "hash": "4d92d0672265a1f596c4af97ef32a2cdda6abc1f152a825959aa64a1f347483d"
  },
  "kernelspec": {
   "display_name": "Python 3.9.10 64-bit",
   "language": "python",
   "name": "python3"
  },
  "language_info": {
   "codemirror_mode": {
    "name": "ipython",
    "version": 3
   },
   "file_extension": ".py",
   "mimetype": "text/x-python",
   "name": "python",
   "nbconvert_exporter": "python",
   "pygments_lexer": "ipython3",
   "version": "3.9.10"
  },
  "orig_nbformat": 4
 },
 "nbformat": 4,
 "nbformat_minor": 2
}
