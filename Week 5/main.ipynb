{
 "cells": [
  {
   "cell_type": "markdown",
   "metadata": {},
   "source": [
    "<h2>Instance Variable dan\n",
    "\n",
    "Static Variable</h2>\n",
    "\n",
    "*   Instance Variable\n",
    ">In object-oriented programming with classes, an instance variable is a variable defined in a class, for which each instantiated object of the class has a separate copy, or instance. An instance variable has similarities with a class variable, but is non-static.\n",
    "*     Static Variable\n",
    ">In computer programming, a static variable is a variable that has been allocated \"statically\", meaning that its lifetime is the entire run of the program."
   ]
  },
  {
   "cell_type": "code",
   "execution_count": 6,
   "metadata": {},
   "outputs": [
    {
     "name": "stdout",
     "output_type": "stream",
     "text": [
      "iqbal\n"
     ]
    }
   ],
   "source": [
    "# Instance Variabel\n",
    "'''Di dalam python, setiap variabel yang didefinisikan di dalam fungsi pada sebuah kelas (lewat\n",
    "variabel self), maka ia dikatakan instance variable.\n",
    "'''\n",
    "class coba:\n",
    "    def __init__(self,name):\n",
    "        self.name=name\n",
    "#cara mengmangil\n",
    "person=coba(\"iqbal\")\n",
    "print(person.name)# maka sama seperti contok di week 2,kita memangil metode\n"
   ]
  },
  {
   "cell_type": "code",
   "execution_count": 11,
   "metadata": {},
   "outputs": [
    {
     "data": {
      "text/plain": [
       "'S1'"
      ]
     },
     "execution_count": 11,
     "metadata": {},
     "output_type": "execute_result"
    }
   ],
   "source": [
    "# Static Variable\n",
    "class mahasiswa:\n",
    "    jenjang='S1'\n",
    "    def __init__(self,name):\n",
    "        self.name=name\n",
    "person1=mahasiswa('Joko')\n",
    "person2=mahasiswa('Ucup')\n",
    "\n"
   ]
  },
  {
   "cell_type": "code",
   "execution_count": 12,
   "metadata": {},
   "outputs": [
    {
     "data": {
      "text/plain": [
       "'S1'"
      ]
     },
     "execution_count": 12,
     "metadata": {},
     "output_type": "execute_result"
    }
   ],
   "source": [
    "person1.jenjang\n",
    "person2.jenjang"
   ]
  },
  {
   "cell_type": "code",
   "execution_count": 13,
   "metadata": {},
   "outputs": [
    {
     "data": {
      "text/plain": [
       "'Joko'"
      ]
     },
     "execution_count": 13,
     "metadata": {},
     "output_type": "execute_result"
    }
   ],
   "source": [
    "# call them\n",
    "person1.name"
   ]
  },
  {
   "cell_type": "markdown",
   "metadata": {},
   "source": [
    "<h3>Static Methods</h3>\n",
    "\n",
    ">A static method (or static function) is a method defined as a member of an object but is accessible directly from an API object's constructor, rather than from an object instance created via the constructor."
   ]
  },
  {
   "cell_type": "code",
   "execution_count": 14,
   "metadata": {},
   "outputs": [
    {
     "name": "stdout",
     "output_type": "stream",
     "text": [
      "IQBAL\n"
     ]
    }
   ],
   "source": [
    "# static method\n",
    "# 1 Membuat Fungsi utilitas pada sebuah class\n",
    "class mahasiswa:\n",
    "    def __init__(self,name):\n",
    "        self.name=name\n",
    "    def get_Nama(self):\n",
    "        return self.name\n",
    "    @staticmethod\n",
    "    def hurufBesar(data):\n",
    "        return data.upper()\n",
    "person=mahasiswa('Iqbal')\n",
    "print(mahasiswa.hurufBesar(person.get_Nama()))\n"
   ]
  },
  {
   "cell_type": "code",
   "execution_count": 16,
   "metadata": {},
   "outputs": [
    {
     "name": "stdout",
     "output_type": "stream",
     "text": [
      "16.0\n",
      "68.0\n",
      "293\n"
     ]
    }
   ],
   "source": [
    "class suhu:\n",
    "    @staticmethod\n",
    "    def cel_to_faren(data):\n",
    "        return 9/5*data+32\n",
    "    @staticmethod\n",
    "    def cel_to_reamur(data):\n",
    "        return data*4/5\n",
    "    @staticmethod\n",
    "    def cel_to_kelvin(data):\n",
    "        return data+273\n",
    "cel=20\n",
    "print(suhu.cel_to_reamur(cel))\n",
    "print(suhu.cel_to_faren(cel))\n",
    "print(suhu.cel_to_kelvin(cel))"
   ]
  },
  {
   "cell_type": "code",
   "execution_count": 18,
   "metadata": {},
   "outputs": [
    {
     "name": "stdout",
     "output_type": "stream",
     "text": [
      "Iqbal\n",
      "Ramadhan\n"
     ]
    }
   ],
   "source": [
    "class human:\n",
    "    def __init__(self,name):\n",
    "        self.name=name\n",
    "    def get_Nama(self):\n",
    "        return self.name\n",
    "    @staticmethod\n",
    "    def hurufBesar(data):\n",
    "        return data.upper()\n",
    "class laki(human):\n",
    "    def __init__(self,name):\n",
    "        self.name=name\n",
    "    def title_name(self):\n",
    "        return self.name.title()\n",
    "\n",
    "person=human(\"Iqbal\")\n",
    "print(person.get_Nama())\n",
    "person_back=laki('Ramadhan')\n",
    "print(person_back.get_Nama())"
   ]
  },
  {
   "cell_type": "code",
   "execution_count": 22,
   "metadata": {},
   "outputs": [
    {
     "name": "stdout",
     "output_type": "stream",
     "text": [
      "Hello\n"
     ]
    }
   ],
   "source": [
    "# class Side Method\n",
    "'''Class method pada python adalah method statis yang disandarkan langsung kepada sebuah class, artinya kita bisa\n",
    "memanggil fungsi tersebut tanpa harus membuat objek terlebih dahulu seperti pada static method.'''\n",
    "class game:\n",
    "    def __init__(self,name):\n",
    "        self.name=name\n",
    "    def get_Nama(self):\n",
    "        return self.name\n",
    "    @classmethod\n",
    "    def intro(data):\n",
    "        return print('Hello')\n",
    "\n",
    "game.intro()"
   ]
  },
  {
   "cell_type": "code",
   "execution_count": null,
   "metadata": {},
   "outputs": [],
   "source": []
  }
 ],
 "metadata": {
  "interpreter": {
   "hash": "4d92d0672265a1f596c4af97ef32a2cdda6abc1f152a825959aa64a1f347483d"
  },
  "kernelspec": {
   "display_name": "Python 3.9.10 64-bit",
   "language": "python",
   "name": "python3"
  },
  "language_info": {
   "codemirror_mode": {
    "name": "ipython",
    "version": 3
   },
   "file_extension": ".py",
   "mimetype": "text/x-python",
   "name": "python",
   "nbconvert_exporter": "python",
   "pygments_lexer": "ipython3",
   "version": "3.9.10"
  },
  "orig_nbformat": 4
 },
 "nbformat": 4,
 "nbformat_minor": 2
}
