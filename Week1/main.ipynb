{
 "cells": [
  {
   "cell_type": "markdown",
   "metadata": {},
   "source": [
    "<h2>Definisi Function</h2>\n",
    "\n",
    ">Functions \"Encapsulate\" a task (they combine many instructions into a single line of code). Most programming languages provide many built in functions that would otherwise require many steps to accomplish, for example computing the square root of a number. In general, we don't care how a function does what it does, only that it \"does it\"!\n",
    "\n",
    "*   <h4>Types Function</h4>\n",
    "><h5>Built-in function</h5>.Built-in function are properties for which was installed in language programing\n",
    "><h5>User-defined function</h5>.User-defined function are funtions was make by owner(user/programmer)\n"
   ]
  },
  {
   "cell_type": "markdown",
   "metadata": {},
   "source": [
    "<h2>How does Function work</h2>"
   ]
  },
  {
   "cell_type": "code",
   "execution_count": 13,
   "metadata": {},
   "outputs": [
    {
     "name": "stdout",
     "output_type": "stream",
     "text": [
      "yahooo hello world\n",
      "yahooo iqbal kun\n",
      "がんばて {name} kun\n"
     ]
    }
   ],
   "source": [
    "# example for simple function\n",
    "def print_name():\n",
    "    print(f'yahooo hello world')\n",
    "def saying_lk(name):\n",
    "    print(f'yahooo {name} kun')\n",
    "    print('がんばて {name} kun')\n",
    "# how to call the own simple function\n",
    "print_name()\n",
    "saying_lk('iqbal')"
   ]
  },
  {
   "cell_type": "code",
   "execution_count": 14,
   "metadata": {},
   "outputs": [
    {
     "data": {
      "text/plain": [
       "(20, 10)"
      ]
     },
     "execution_count": 14,
     "metadata": {},
     "output_type": "execute_result"
    }
   ],
   "source": [
    "# how to reverse possition with a amount value \n",
    "def tukar(a,b):\n",
    "    return b,a\n",
    "# and we call them\n",
    "tukar(10,20)"
   ]
  },
  {
   "cell_type": "code",
   "execution_count": 20,
   "metadata": {},
   "outputs": [
    {
     "data": {
      "text/plain": [
       "1.0000004285759883"
      ]
     },
     "execution_count": 20,
     "metadata": {},
     "output_type": "execute_result"
    }
   ],
   "source": [
    "# soo... in personality,i want make funtions about convert from degree to radius\n",
    "def con_deg_ra(data):\n",
    "    '''\n",
    "    the formula\n",
    "    1° × π/180 = 0.01745rad\n",
    "\n",
    "    '''\n",
    "    return data*0.0174533\n",
    "def con_ra_deg(data):\n",
    "\n",
    "    '''1rad × 180/π = 57.296°\n",
    "    '''\n",
    "    return data*57.2957795131\n",
    "degree=1\n",
    "con_deg_ra(degree)\n",
    "\n",
    "con_ra_deg(con_deg_ra(degree))"
   ]
  },
  {
   "cell_type": "markdown",
   "metadata": {},
   "source": [
    "<h2>Function Parameter<h2>\n",
    "\n",
    ">funtion them have the value "
   ]
  },
  {
   "cell_type": "code",
   "execution_count": 25,
   "metadata": {},
   "outputs": [
    {
     "name": "stdout",
     "output_type": "stream",
     "text": [
      "25\n",
      "100\n"
     ]
    }
   ],
   "source": [
    "# single Parameter Funtions\n",
    "# example\n",
    "def kuadrat(value):\n",
    "    return value**2 \n",
    "# so we call them \n",
    "print(kuadrat(5))\n",
    "# or\n",
    "value=10\n",
    "print(kuadrat(value)) "
   ]
  },
  {
   "cell_type": "code",
   "execution_count": 29,
   "metadata": {},
   "outputs": [
    {
     "data": {
      "text/plain": [
       "10000000000000000000000000000000000000000000000000000000000000000000000000000000000000000000000000000"
      ]
     },
     "execution_count": 29,
     "metadata": {},
     "output_type": "execute_result"
    }
   ],
   "source": [
    "# multiple parameter Functions\n",
    "def pangkat(a,b):\n",
    "    \"\"\"Formula \n",
    "    a**b\n",
    "    \"\"\"\n",
    "    return a**b\n",
    "pangkat(10,100)# this google number"
   ]
  },
  {
   "cell_type": "code",
   "execution_count": 32,
   "metadata": {},
   "outputs": [
    {
     "data": {
      "text/plain": [
       "('iqbal', 19, 'Student')"
      ]
     },
     "execution_count": 32,
     "metadata": {},
     "output_type": "execute_result"
    }
   ],
   "source": [
    "# defalut parameter Function\n",
    "def indetity(name,age,status=\"Student\"):\n",
    "    return name,age,status\n",
    "indetity('iqbal',19)\n"
   ]
  },
  {
   "cell_type": "code",
   "execution_count": 33,
   "metadata": {},
   "outputs": [
    {
     "data": {
      "text/plain": [
       "('Shibuya', 19, 'Working')"
      ]
     },
     "execution_count": 33,
     "metadata": {},
     "output_type": "execute_result"
    }
   ],
   "source": [
    "# Named parameter Function\n",
    "indetity(\"Shibuya\",status=\"Working\",age=19)# that Named function,not effect in possition name because your retype name of parameter when you call them "
   ]
  },
  {
   "cell_type": "code",
   "execution_count": 11,
   "metadata": {},
   "outputs": [
    {
     "data": {
      "text/plain": [
       "['Monica', 'Luke', 'Steve', 'John']"
      ]
     },
     "execution_count": 11,
     "metadata": {},
     "output_type": "execute_result"
    }
   ],
   "source": [
    "'''Python Arbitrary Arguments\n",
    "Sometimes, we do not know in advance the number of arguments that will be passed into a function. Python allows us to handle this kind of situation through function calls with an arbitrary number of arguments.\n",
    "\n",
    "In the function definition, we use an asterisk (*) before the parameter name to denote this kind of argument. Here is an example'''\n",
    "def list_(*data):\n",
    "    re=[]\n",
    "    for i in data:\n",
    "        re.append(\"\".join(list(i)))\n",
    "    return re\n",
    "    \n",
    "list_(\"Monica\", \"Luke\", \"Steve\", \"John\")\n"
   ]
  },
  {
   "cell_type": "code",
   "execution_count": null,
   "metadata": {},
   "outputs": [],
   "source": []
  }
 ],
 "metadata": {
  "interpreter": {
   "hash": "4d92d0672265a1f596c4af97ef32a2cdda6abc1f152a825959aa64a1f347483d"
  },
  "kernelspec": {
   "display_name": "Python 3.9.10 64-bit",
   "language": "python",
   "name": "python3"
  },
  "language_info": {
   "codemirror_mode": {
    "name": "ipython",
    "version": 3
   },
   "file_extension": ".py",
   "mimetype": "text/x-python",
   "name": "python",
   "nbconvert_exporter": "python",
   "pygments_lexer": "ipython3",
   "version": "3.9.10"
  },
  "orig_nbformat": 4
 },
 "nbformat": 4,
 "nbformat_minor": 2
}
